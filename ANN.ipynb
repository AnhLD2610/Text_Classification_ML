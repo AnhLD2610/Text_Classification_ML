{
 "cells": [
  {
   "cell_type": "code",
   "execution_count": 1,
   "metadata": {},
   "outputs": [],
   "source": [
    "import pickle\n",
    "import TextEmbedding \n",
    "import matplotlib.pyplot as plt\n",
    "import numpy as np\n",
    "from sklearn.metrics import accuracy_score, recall_score, f1_score, confusion_matrix\n",
    "from sklearn.model_selection import train_test_split\n",
    "\n",
    "from keras.layers import Dense,Embedding,Dropout,Flatten\n",
    "from keras.optimizers import Adam\n",
    "\n",
    "from tensorflow.keras.models import Sequential\n",
    "from tensorflow.keras.utils import to_categorical"
   ]
  },
  {
   "cell_type": "code",
   "execution_count": 2,
   "metadata": {},
   "outputs": [],
   "source": [
    "X_train = pickle.load(open('FinalData\\X_train.pkl', 'rb'))\n",
    "X_test = pickle.load(open('FinalData\\X_test.pkl', 'rb'))\n",
    "y_train = pickle.load(open('FinalData\\y_train.pkl', 'rb'))\n",
    "y_test = pickle.load(open('FinalData\\y_test.pkl', 'rb'))\n",
    "\n",
    "X_train_w2v = pickle.load(open('FinalData\\X_train_w2v.pkl', 'rb'))\n",
    "X_test_w2v = pickle.load(open('FinalData\\X_test_w2v.pkl', 'rb'))\n",
    "y_train_w2v = pickle.load(open('FinalData\\y_train_w2v.pkl', 'rb'))\n",
    "y_test_w2v = pickle.load(open('FinalData\\y_test_w2v.pkl', 'rb'))\n",
    "tfidf_embedding_train, tfidf_embedding_test = TextEmbedding.tfidf(X_train,X_test)\n",
    "BOW_embedding_train, BOW_embedding_test = TextEmbedding.BagOfWord(X_train,X_test)\n",
    "w2v_embedding_train, w2v_embedding_test = TextEmbedding.Word2Vector(X_train,X_test)"
   ]
  },
  {
   "cell_type": "code",
   "execution_count": 3,
   "metadata": {},
   "outputs": [],
   "source": [
    "list_topic ={\n",
    "    \"thoi-su\": 0,\n",
    "    \"kinh-doanh\": 1,\n",
    "    \"khoa-hoc\": 2,\n",
    "    \"giai-tri\": 3,\n",
    "    \"the-thao\": 4,\n",
    "    \"phap-luat\": 5, \n",
    "    \"giao-duc\": 6,\n",
    "    \"suc-khoe\": 7,\n",
    "    \"doi-song\": 8,\n",
    "    \"du-lich\":  9\n",
    "}\n",
    "for i in range (len(y_train)):\n",
    "    for x, y in list_topic.items():\n",
    "        if y_train[i] == x:\n",
    "            y_train[i] = y \n",
    "for i in range (len(y_test)):\n",
    "    for x, y in list_topic.items():\n",
    "        if y_test[i] == x:\n",
    "            y_test[i] = y"
   ]
  },
  {
   "cell_type": "code",
   "execution_count": 4,
   "metadata": {},
   "outputs": [],
   "source": [
    "tfidf_embedding_train = np.array(tfidf_embedding_train.toarray())\n",
    "tfidf_embedding_test = np.array(tfidf_embedding_test.toarray())\n",
    "BOW_embedding_train = np.array(BOW_embedding_train.toarray())\n",
    "BOW_embedding_test = np.array(BOW_embedding_test.toarray())\n",
    "w2v_embedding_train = np.array(w2v_embedding_train)\n",
    "w2v_embedding_test = np.array(w2v_embedding_test)\n",
    "y_train = np.array(y_train)\n",
    "y_test = np.array(y_test)\n",
    "y_train = to_categorical(y_train,10)\n",
    "y_test_ = to_categorical(y_test,10)"
   ]
  },
  {
   "cell_type": "code",
   "execution_count": 5,
   "metadata": {},
   "outputs": [],
   "source": [
    "def set_model(input_dim):\n",
    "    model = Sequential()\n",
    "    model.add(Flatten(input_shape=(input_dim,)))  \n",
    "    model.add(Dense(64, activation='relu'))\n",
    "    model.add(Dense(10, activation='softmax'))\n",
    "    \n",
    "    optimizer = Adam(learning_rate=0.001)\n",
    "    model.compile(optimizer=optimizer, loss='categorical_crossentropy', metrics=['accuracy'])\n",
    "    return model"
   ]
  },
  {
   "attachments": {},
   "cell_type": "markdown",
   "metadata": {},
   "source": [
    "BOW_EMBEDDING"
   ]
  },
  {
   "cell_type": "code",
   "execution_count": 6,
   "metadata": {},
   "outputs": [
    {
     "name": "stdout",
     "output_type": "stream",
     "text": [
      "Model: \"sequential\"\n",
      "_________________________________________________________________\n",
      " Layer (type)                Output Shape              Param #   \n",
      "=================================================================\n",
      " flatten (Flatten)           (None, 11526)             0         \n",
      "                                                                 \n",
      " dense (Dense)               (None, 64)                737728    \n",
      "                                                                 \n",
      " dense_1 (Dense)             (None, 10)                650       \n",
      "                                                                 \n",
      "=================================================================\n",
      "Total params: 738,378\n",
      "Trainable params: 738,378\n",
      "Non-trainable params: 0\n",
      "_________________________________________________________________\n"
     ]
    }
   ],
   "source": [
    "model = set_model(BOW_embedding_train.shape[1])\n",
    "model.build((None, BOW_embedding_train.shape[1]))\n",
    "model.summary()\n"
   ]
  },
  {
   "cell_type": "code",
   "execution_count": 7,
   "metadata": {},
   "outputs": [],
   "source": [
    "X_train_new, X_val, y_train_new, y_val = train_test_split(BOW_embedding_train, y_train, test_size=0.1, random_state=42)\n"
   ]
  },
  {
   "cell_type": "code",
   "execution_count": 8,
   "metadata": {},
   "outputs": [
    {
     "name": "stdout",
     "output_type": "stream",
     "text": [
      "Epoch 1/5\n",
      "221/221 [==============================] - 4s 13ms/step - loss: 0.5247 - accuracy: 0.8380 - val_loss: 0.4341 - val_accuracy: 0.8664\n",
      "Epoch 2/5\n",
      "221/221 [==============================] - 3s 13ms/step - loss: 0.0634 - accuracy: 0.9811 - val_loss: 0.4406 - val_accuracy: 0.8664\n",
      "Epoch 3/5\n",
      "221/221 [==============================] - 2s 11ms/step - loss: 0.0260 - accuracy: 0.9949 - val_loss: 0.4499 - val_accuracy: 0.8651\n",
      "Epoch 4/5\n",
      "221/221 [==============================] - 3s 12ms/step - loss: 0.0215 - accuracy: 0.9958 - val_loss: 0.4775 - val_accuracy: 0.8588\n",
      "Epoch 5/5\n",
      "221/221 [==============================] - 3s 11ms/step - loss: 0.0143 - accuracy: 0.9965 - val_loss: 0.4832 - val_accuracy: 0.8715\n"
     ]
    }
   ],
   "source": [
    "history = model.fit(X_train_new, y_train_new, epochs=5, validation_data=(X_val, y_val), batch_size=32, verbose=1)\n"
   ]
  },
  {
   "cell_type": "code",
   "execution_count": 10,
   "metadata": {},
   "outputs": [
    {
     "name": "stdout",
     "output_type": "stream",
     "text": [
      "82/82 [==============================] - 0s 4ms/step - loss: 0.4830 - accuracy: 0.8702\n",
      "Accuracy on test set: 87.02%\n"
     ]
    }
   ],
   "source": [
    "y_test_new = np.array(y_test)\n",
    "\n",
    "y_test_new = to_categorical(y_test,10)\n",
    "# print(X_test.shape)\n",
    "# print(y_test.shape)\n",
    "\n",
    "loss, accuracy = model.evaluate(BOW_embedding_test, y_test_new)\n",
    "\n",
    "# Print the accuracy score\n",
    "print(\"Accuracy on test set: {:.2f}%\".format(accuracy * 100))"
   ]
  },
  {
   "attachments": {},
   "cell_type": "markdown",
   "metadata": {},
   "source": [
    "TFIDF EMBEDDING"
   ]
  },
  {
   "cell_type": "code",
   "execution_count": 11,
   "metadata": {},
   "outputs": [
    {
     "name": "stdout",
     "output_type": "stream",
     "text": [
      "Model: \"sequential_1\"\n",
      "_________________________________________________________________\n",
      " Layer (type)                Output Shape              Param #   \n",
      "=================================================================\n",
      " flatten_1 (Flatten)         (None, 11526)             0         \n",
      "                                                                 \n",
      " dense_2 (Dense)             (None, 64)                737728    \n",
      "                                                                 \n",
      " dense_3 (Dense)             (None, 10)                650       \n",
      "                                                                 \n",
      "=================================================================\n",
      "Total params: 738,378\n",
      "Trainable params: 738,378\n",
      "Non-trainable params: 0\n",
      "_________________________________________________________________\n"
     ]
    }
   ],
   "source": [
    "model = set_model(tfidf_embedding_train.shape[1])\n",
    "model.build((None,tfidf_embedding_train.shape[1]))\n",
    "model.summary()\n"
   ]
  },
  {
   "cell_type": "code",
   "execution_count": 12,
   "metadata": {},
   "outputs": [],
   "source": [
    "X_train_new, X_val, y_train_new, y_val = train_test_split(tfidf_embedding_train, y_train, test_size=0.1, random_state=42)\n"
   ]
  },
  {
   "cell_type": "code",
   "execution_count": 13,
   "metadata": {},
   "outputs": [
    {
     "name": "stdout",
     "output_type": "stream",
     "text": [
      "Epoch 1/5\n",
      "221/221 [==============================] - 3s 12ms/step - loss: 1.3489 - accuracy: 0.8040 - val_loss: 0.6771 - val_accuracy: 0.8473\n",
      "Epoch 2/5\n",
      "221/221 [==============================] - 2s 9ms/step - loss: 0.4113 - accuracy: 0.9046 - val_loss: 0.4521 - val_accuracy: 0.8677\n",
      "Epoch 3/5\n",
      "221/221 [==============================] - 2s 10ms/step - loss: 0.2273 - accuracy: 0.9456 - val_loss: 0.3915 - val_accuracy: 0.8715\n",
      "Epoch 4/5\n",
      "221/221 [==============================] - 2s 9ms/step - loss: 0.1377 - accuracy: 0.9734 - val_loss: 0.3776 - val_accuracy: 0.8702\n",
      "Epoch 5/5\n",
      "221/221 [==============================] - 2s 9ms/step - loss: 0.0859 - accuracy: 0.9866 - val_loss: 0.3802 - val_accuracy: 0.8651\n"
     ]
    }
   ],
   "source": [
    "history = model.fit(X_train_new, y_train_new, epochs=5, validation_data=(X_val, y_val), batch_size=32, verbose=1)\n"
   ]
  },
  {
   "cell_type": "code",
   "execution_count": 14,
   "metadata": {},
   "outputs": [
    {
     "name": "stdout",
     "output_type": "stream",
     "text": [
      "82/82 [==============================] - 0s 3ms/step - loss: 0.3659 - accuracy: 0.8832\n",
      "Accuracy on test set: 88.32%\n"
     ]
    }
   ],
   "source": [
    "y_test_new = np.array(y_test)\n",
    "\n",
    "y_test_new = to_categorical(y_test,10)\n",
    "# print(X_test.shape)\n",
    "# print(y_test.shape)\n",
    "\n",
    "loss, accuracy = model.evaluate(tfidf_embedding_test, y_test_new)\n",
    "\n",
    "# Print the accuracy score\n",
    "print(\"Accuracy on test set: {:.2f}%\".format(accuracy * 100))"
   ]
  },
  {
   "attachments": {},
   "cell_type": "markdown",
   "metadata": {},
   "source": [
    "WORD2VEC EMBEDDING"
   ]
  },
  {
   "cell_type": "code",
   "execution_count": 18,
   "metadata": {},
   "outputs": [
    {
     "name": "stdout",
     "output_type": "stream",
     "text": [
      "Model: \"sequential_3\"\n",
      "_________________________________________________________________\n",
      " Layer (type)                Output Shape              Param #   \n",
      "=================================================================\n",
      " flatten_3 (Flatten)         (None, 10000)             0         \n",
      "                                                                 \n",
      " dense_6 (Dense)             (None, 64)                640064    \n",
      "                                                                 \n",
      " dense_7 (Dense)             (None, 10)                650       \n",
      "                                                                 \n",
      "=================================================================\n",
      "Total params: 640,714\n",
      "Trainable params: 640,714\n",
      "Non-trainable params: 0\n",
      "_________________________________________________________________\n"
     ]
    }
   ],
   "source": [
    "model = set_model(w2v_embedding_train.shape[1])\n",
    "model.build((None,w2v_embedding_train.shape[1]))\n",
    "model.summary()"
   ]
  },
  {
   "cell_type": "code",
   "execution_count": 19,
   "metadata": {},
   "outputs": [],
   "source": [
    "X_train_new, X_val, y_train_new, y_val = train_test_split(w2v_embedding_train, y_train, test_size=0.1, random_state=42)\n"
   ]
  },
  {
   "cell_type": "code",
   "execution_count": 20,
   "metadata": {},
   "outputs": [
    {
     "name": "stdout",
     "output_type": "stream",
     "text": [
      "Epoch 1/5\n",
      "221/221 [==============================] - 3s 12ms/step - loss: 0.5569 - accuracy: 0.8187 - val_loss: 0.4727 - val_accuracy: 0.8410\n",
      "Epoch 2/5\n",
      "221/221 [==============================] - 2s 11ms/step - loss: 0.4029 - accuracy: 0.8593 - val_loss: 0.4907 - val_accuracy: 0.8372\n",
      "Epoch 3/5\n",
      "221/221 [==============================] - 2s 10ms/step - loss: 0.3660 - accuracy: 0.8702 - val_loss: 0.4161 - val_accuracy: 0.8524\n",
      "Epoch 4/5\n",
      "221/221 [==============================] - 2s 9ms/step - loss: 0.3408 - accuracy: 0.8780 - val_loss: 0.4303 - val_accuracy: 0.8511\n",
      "Epoch 5/5\n",
      "221/221 [==============================] - 2s 9ms/step - loss: 0.3173 - accuracy: 0.8811 - val_loss: 0.4606 - val_accuracy: 0.8359\n"
     ]
    }
   ],
   "source": [
    "history = model.fit(X_train_new, y_train_new, epochs=5, validation_data=(X_val, y_val), batch_size=32, verbose=1)\n"
   ]
  },
  {
   "cell_type": "code",
   "execution_count": 22,
   "metadata": {},
   "outputs": [
    {
     "name": "stdout",
     "output_type": "stream",
     "text": [
      "82/82 [==============================] - 0s 5ms/step - loss: 0.4197 - accuracy: 0.8473\n",
      "Accuracy on test set: 84.73%\n"
     ]
    }
   ],
   "source": [
    "y_test_new = np.array(y_test)\n",
    "\n",
    "y_test_new = to_categorical(y_test,10)\n",
    "# print(X_test.shape)\n",
    "# print(y_test.shape)\n",
    "\n",
    "loss, accuracy = model.evaluate(w2v_embedding_test, y_test_new)\n",
    "\n",
    "# Print the accuracy score\n",
    "print(\"Accuracy on test set: {:.2f}%\".format(accuracy * 100))"
   ]
  }
 ],
 "metadata": {
  "kernelspec": {
   "display_name": "base",
   "language": "python",
   "name": "python3"
  },
  "language_info": {
   "codemirror_mode": {
    "name": "ipython",
    "version": 3
   },
   "file_extension": ".py",
   "mimetype": "text/x-python",
   "name": "python",
   "nbconvert_exporter": "python",
   "pygments_lexer": "ipython3",
   "version": "3.10.9"
  },
  "orig_nbformat": 4
 },
 "nbformat": 4,
 "nbformat_minor": 2
}
